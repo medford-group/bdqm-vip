{
 "cells": [
  {
   "cell_type": "markdown",
   "metadata": {},
   "source": [
    "# Big Data & Quantum Mechanics\n",
    " \n",
    "\n",
    "## Overview of Medford Group research\n",
    "\n",
    "<img src=\"images/medford_group_bg.png\">\n",
    "\n"
   ]
  },
  {
   "cell_type": "markdown",
   "metadata": {},
   "source": [
    "## About Prof. AJ Medford\n",
    "\n",
    "- Started as a professor (and this VIP course) in Spring 2017.\n",
    "- Experience in developing and contributing to several open-source software packages (CatMAP, ElectroLens, TAPSolver, SPARC, AMPTorch)\n",
    "- Instructor for \"Data Analytics for Chemical Engineers\" and Numerical Methods.\n",
    "- Interest in applying data science techniques to problems in quantum chemistry and physics.\n",
    "\n",
    "### Co-instructor: Prof. Phanish Suryanarayana\n",
    "\n",
    "- Lead developer of SPARC DFT code\n",
    "- Expert in electronic structure theory and numerical methods"
   ]
  },
  {
   "cell_type": "markdown",
   "metadata": {},
   "source": [
    "## Introductions\n",
    "\n",
    "We will go around the class and introduce ourselves to the everyone. When it is your turn to speak, tell everyone your *preferred name, major, and something **boring** about yourself*."
   ]
  },
  {
   "cell_type": "markdown",
   "metadata": {},
   "source": [
    "## How does VIP work?\n",
    "\n",
    "The premise of VIP is teams working on projects. Much like a real-world engineering team, individual members work on different aspects of the project. Team members range from sophomores through graduate students, from first-time participants to students who have been involved for four or more semesters. Some students take the course for one credit, and others take it for two credits; naturally, the bar will be higher for those taking it for two credits."
   ]
  },
  {
   "cell_type": "markdown",
   "metadata": {},
   "source": [
    "## How is VIP graded?\n",
    "\n",
    "You will receive a grade for the course based on three criteria:\n",
    "\n",
    "- Documentation (33.3%): Based on biweekly updates of progress on tasks.\n",
    "- Personal Accomplishments (33.3%): Based on how well you achieve your research goals.\n",
    "- Teamwork and Participation (33.3%): Peer evaluations will be used to establish how well you work on a team.\n",
    "\n",
    "Grading process:\n",
    "- Bi-weekly on Thursday: Submit \"bi-weekly update\" and literature review to Canvas. Complete peer grading (instructions in syllabus).\n",
    "\n",
    "- Midterm: Submit personal accomplishment documentation to Canvas. Complete peer evaluations. Complete peer grading. *Note for returning students* This grade **will** be counted towards your final grade in the course.\n",
    "\n",
    "- Final: Identical to midterm. Final grade will be a weighted average of the midterm and final submissions.\n",
    "\n",
    "The following deliverables are expected at the midterm and final evaluations. Note that the \"personal accomplishment\" documentation will be graded using a combination of peer grading and instructor grading, so you will also need to complete the peer grading at each point.\n",
    "\n",
    "- Deliverables: \n",
    "    - Compiled bi-weekly update\n",
    "    - Personal accomplishment documentation\n",
    "    - Peer grading\n",
    "    - Peer evaluation\n",
    "    - Demonstrated completion of all assigned training materials\n",
    "\n",
    "See [syllabus](https://github.com/medford-group/bdqm-vip/blob/master/syllabus.md) for more details."
   ]
  },
  {
   "cell_type": "markdown",
   "metadata": {},
   "source": [
    "## VIP is not like a regular course \n",
    "\n",
    "Regular courses have a clear direction:\n",
    "\n",
    "<img src=\"images/mario.png\">\n",
    "\n",
    "VIP lets you choose your own adventure:\n",
    "\n",
    "<img src=\"images/zelda.jpeg\">\n"
   ]
  },
  {
   "cell_type": "markdown",
   "metadata": {},
   "source": [
    "## Group Communication:\n",
    "\n",
    "- Slack group used for all communication, join using [this link](https://join.slack.com/t/medfordgroup/shared_invite/enQtNzI2NTcxNTMyNzIxLTdlNDQ3OTE0YjcxOWYyNTQxNDZiZjFjNmIwMzRlYWVhYWY5NWY2MjFkYTAwNzA1YTM1ZDM4ZTAzMDRlNGI1ZDE)\n",
    "\t- vip: all VIP students should join. Official announcements will be posted here.\n",
    "\t- training: discussion related to training project.\n",
    "    - dft_modeling: channel for \"DFT Modeling of Surface Reactions\" sub-team (see below)\n",
    "    - ml_catalysis: channel for \"Machine Learning for Catalysis\" sub-team (see below)\n",
    "\t- general: channel for general discussions with the whole group.\n",
    " "
   ]
  },
  {
   "cell_type": "markdown",
   "metadata": {},
   "source": [
    "## Team Structure : New Students\n",
    "\n",
    "- Complete training materials. Consists of introductions to computational tools, density functional theory, and machine learning concepts.\n",
    "- Training project goals document [available here](https://github.com/medford-group/bdqm-vip/blob/master/project_descriptions/training.md).\n",
    "\n",
    "New students will join the \"Training\" sub-team. You will work individually to complete all the tasks, but should meet regularly with your teammates and graduate advisor to touch base on progress, ask questions, and get help with anything you are stuck on. The training materials must be completed by the Midterm. After this point, you will be expected to participate in the project specific sub-teams. You are free to join one of the sub-teams directly, or \"sample\" the available teams each week, but keep in mind that the expectation is that you join just one team by the end of the semester and begin working on a specific project. "
   ]
  },
  {
   "cell_type": "markdown",
   "metadata": {},
   "source": [
    "## Team Structure: Returning Students, OMSCS Students, post Midterm New Students\n",
    "\n",
    "- Returning students will join one of the two \"sub-teams\" described below, or work on \"independent study\" projects.\n",
    "- OMSCS students can decide whether to complete the training exercises or join a sub-team (or both)\n",
    "- New students will be expected to join one of the sub-teams after the midterm\n",
    "\n",
    "### Sub-teams\n",
    "- There are two main sub-teams, each of which will function as a small research group advised by a graduate mentor\n",
    "    * **DFT Modeling of Surface Reactions** - This sub-team will focus on the computational investigation of surface reactions using SPARC DFT code, as well as testing and improving the SPARC code suite.\n",
    "    * **Machine Learning for Catalysis** - This team will focus on developing ML tools for catalysis. The two main thrusts will be LLMs for catalysis and developing a lightweight, and easily customizable NNFF training package. \n",
    "- Students should work on self-defined individual tasks within the scope of a sub-team\n",
    "    * Each student should have a clearly-defined task that they are working independently on. This task should be self-determined and within the scope of the broader goal of the sub-team based on consultations with other sub-team members and the graduate student advisor.\n",
    "    * Students may work together on a given task or direction, but should also have individual goals.\n",
    "    * Each student should create a \"goals document\" similar to the [training project goals](https://github.com/medford-group/bdqm-vip/blob/master/project_descriptions/training.md) document. This should be uploaded to Canvas by the second week of class, and ideally added to the `project_descriptions` folder of this Github repo in the format of `lastname-project_short_title.md`.\n",
    "    * Students should regularly communicate with their sub-team to (1) coordinate progress on individual tasks to work toward the larger goal of the team, (2) ask for and provide assistance to other sub-team members, and (3) seek advice from and provide updates to the sub-team graduate mentor.\n",
    "    * It is fully expected that the goals of research tasks change throughout the semester. The goals document can be updated at any time up to 2 weeks prior to the end of the semester. Students should revise goals as needed to ensure they are achievable.\n",
    "\n",
    "\n",
    "### Independent Study Projects\n",
    "\n",
    "These projects are self-defined projects that are outside the scope of the two main sub-teams, but are within the scope of the Medford research group. These projects should be defined through direct discussions with Prof. Medford at least one month prior to the start of the semester. The projects will generally be associated with initiating new research projects or wrapping up ongoing projects from prior semesters. Independent study projects are typically high risk and/or require significant prior experience, so they will generally be reserved for more senior and returning students. Students from previous semesters who were part of a sub-team that no longer exists may continue their work as an independent study project as well (one month prior discussion not necessary)."
   ]
  },
  {
   "cell_type": "markdown",
   "metadata": {},
   "source": [
    "## Details on Sub-teams\n",
    "\n",
    "Additional details and broader context for the overarching goals of each sub-team, along with possible ideas of individual tasks, are provided below.\n",
    "\n",
    "### DFT Modeling of Surface Reactions\n",
    "\n",
    "Density functional theory (DFT) is one of the most popular computational approaches used in various fields due to its high accuracy in simulating atomistic models. In this project, we will go beyond the scope of the training materials and apply DFT to study fascinating surface reactions. While prior knowledge of these topics is not required, an interest in the computational investigation of chemical reactions is necessary, as the project will involve greater complexity in both DFT and chemistry. DFT calculations will be conducted using SPARC code. The SPARC DFT code, developed by Prof. Suryanarayana at Georgia Tech, was designed to be used for the massive parallel calculations. Additionally, the project will encompass testing SPARC code and improving the Python API for the code.\n",
    "\n",
    "#### Investigating surface reactions\n",
    "DFT is a powerful tool for predicting what is going to happen in the system of interest. However, its reliability depends on how the calculations is done. This approach will involve:\n",
    "* Setting up the realistic surface models, which are crucial for obtaining accurate results\n",
    "* Predicting the surface reactions that are likely to occur under actual conditions\n",
    "* Analyzing the calculation results using Python\n",
    "\n",
    "#### Utilizing SPARC DFT code\n",
    "The SPARC code is a newly developed DFT packages, and as such, it offers opportunities for further refinement through our contribution. The tasks will include:\n",
    "* Testing new features in SPARC\n",
    "* Enhancing the Python API for SPARC\n",
    "\n",
    "### Machine Learning for Catalysis\n",
    "\n",
    "Heterogenous catalysis is the staple of the modern chemical industry. However, many of the catalysts in use today were discovered decades ago. Computational tools, such as DFT, offer a promising route to rational design of novel catalysts with enhanced properties. The cost of DFT limits the search space that can be stuided computationally. Further, the methods for screening catalysts based on DFT calculations often rely on certain assumptions, including an active site(s), orientation of molecule, neglecting adsorbate-adsorbate interactions, approximations to thermal corrections etc... These limit the accuracy and applicability of DFT studies. ML methods have emerged as a promising complement to traditional DFT calculations. The SOTA models developed by Meta for predicting energies and forces can acclerate DFT screenings by as much as 2000x. These results can be used to identify promising candidate catalyst materials given the assumptions enumerated above. We hypothesize that LLMs fine-tuned on the catalysis literature and expert knowledge can be used to automate and improve the robustness of computational screening procedures by extracting knowledge from the wealth of scientific literature. This is a largely unexplored area, as LLMs have only recently been applied to solving problems in chemistry. \n",
    "\n",
    "#### Fine-tuning GPT models for Catalysis\n",
    "LLMs are transforming how scinece is done. We aim to harness the power of open-access models trained by Meta (or others) to solve problems in the field of catalysis. Specific tasks for students will include:\n",
    "\n",
    "* Learning to interact with LLMs via APIs \n",
    "* Developing infrastructure for fine-tuning GPTs with computational catalysis literature on PACE\n",
    "* Construction of development environment for rapid iteration\n",
    "\n",
    "#### Developing a portable and easily customizable platform for training NNs\n",
    "The machine learning literature evolves at a blistering rate. As a result, it is imperative to have a platform for implementing and testing SOTA methods rapidly. Existing platforms for training NNFFs tend to be clunky, involving \"bleeding\" edge dependencies that often break and result in headaches in installation. Further, efforts to optimize the training procedures result in code that is difficult to modify or customize. The goal here is to develop a lightweight, portable platform for training NNs on chemistry data. Specific tasks will include:\n",
    "\n",
    "* Utilizing an autograd package as a base for a NN training package\n",
    "* Developing highly modular python code with minimal dependencies and an emphasis on readability and portability\n",
    "* Extending NN training procedure to tasks outside of traditonal force field development (i.e., exchange correlations)"
   ]
  },
  {
   "cell_type": "markdown",
   "metadata": {},
   "source": [
    "## Standard meeting format\n",
    "\n",
    "Subsequent meetings will follow one of three formats. We will start each meeting virtually in this Zoom\" room regardless of the format.\n",
    "\n",
    "* Flipped class meetings: A lecture video will be posted at least 2 days prior to the lecture. All training students should plan on watching the video prior to the class meeting time. The class meeting time will then be used for discussion of the lecture materials (training group), or as a time to meet with your sub-group. The main lecture will be used to briefly discuss logistics before breaking into sub-groups. Sub-groups where all (or some) of the students are on campus may elect to meet in person or in a hybrid mode based on the preference of group members.\n",
    "\n",
    "\n",
    "* Update meetings: For midterm and final updates, each team will post a 10-15 minute update presentation to Canvas, and each student will be assigned 3 update presentations to watch and provide peer reviews before class. During the class time, all students are expected to be present, and we will go through each group to field questions and discuss their work. Any remaining time will be used for sub-group meetings. \n",
    "\n",
    "\n",
    "* Workshops: No official lecture video to watch beforehand. The entire lecture will be used as unstructured time to work on projects and interact with mentors and instructors.\n",
    "\n",
    "**Note:** If no member of your sub-team is present for the synchronous lecture, then everyone from the group will lose 1/2 point (out of 5) from the documentation grade. If you cannot attend during your update please confirm with an instructor at least 24 hours ahead of time."
   ]
  },
  {
   "cell_type": "markdown",
   "metadata": {},
   "source": [
    "## Lecture schedule and syllabus\n",
    "\n",
    "The course [syllabus](https://github.com/medford-group/bdqm-vip/blob/master/syllabus.md) is available via Github, and includes a list of all the lecture topics and dates. Lecture videos will be posted to the \"Media Gallery\" on the course Canvas page."
   ]
  },
  {
   "cell_type": "markdown",
   "metadata": {},
   "source": [
    "## Week 1 Assignment\n",
    "\n",
    "- Join the [Slack channel](https://join.slack.com/t/medfordgroup/shared_invite/enQtNzI2NTcxNTMyNzIxLTdlNDQ3OTE0YjcxOWYyNTQxNDZiZjFjNmIwMzRlYWVhYWY5NWY2MjFkYTAwNzA1YTM1ZDM4ZTAzMDRlNGI1ZDE)\n",
    "- Start discussion for selecting your group or sub-team project\n",
    "- Install necessary software following instructions below."
   ]
  },
  {
   "cell_type": "markdown",
   "metadata": {},
   "source": [
    "## Software Installation:\n",
    "\n",
    "### Install Anaconda3\n",
    "\n",
    "We'll be using Python3 and Jupyter notebooks extenstively in this class. To access this easily, we'll need to install anaconda3. To do that, go to the anaconda website below and simply follow the buttons to download and install it (ensure that you're downloading the correct version for your operating system.)\n",
    "\n",
    "https://www.anaconda.com/distribution/\n",
    "\n",
    "### Ensure you can access a linux/unix prompt\n",
    "\n",
    "#### Windows users:\n",
    "Please install the windows ubuntu subsystem using these instructions:\n",
    "\n",
    "https://docs.microsoft.com/en-us/windows/wsl/install-win10\n",
    "\n",
    "#### Mac users:\n",
    "Be sure you can open a [terminal](https://www.youtube.com/watch?v=zw7Nd67_aFw)"
   ]
  }
 ],
 "metadata": {
  "kernelspec": {
   "display_name": "Python 3",
   "language": "python",
   "name": "python3"
  },
  "language_info": {
   "codemirror_mode": {
    "name": "ipython",
    "version": 3
   },
   "file_extension": ".py",
   "mimetype": "text/x-python",
   "name": "python",
   "nbconvert_exporter": "python",
   "pygments_lexer": "ipython3",
   "version": "3.8.8"
  },
  "toc": {
   "base_numbering": 1,
   "nav_menu": {},
   "number_sections": true,
   "sideBar": true,
   "skip_h1_title": true,
   "title_cell": "Table of Contents",
   "title_sidebar": "Contents",
   "toc_cell": true,
   "toc_position": {},
   "toc_section_display": true,
   "toc_window_display": false
  }
 },
 "nbformat": 4,
 "nbformat_minor": 4
}
